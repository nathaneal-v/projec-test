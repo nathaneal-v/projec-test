{
  "nbformat": 4,
  "nbformat_minor": 0,
  "metadata": {
    "colab": {
      "provenance": [],
      "authorship_tag": "ABX9TyOGw+sI2fUk2tB948wEvuyX",
      "include_colab_link": true
    },
    "kernelspec": {
      "name": "python3",
      "display_name": "Python 3"
    },
    "language_info": {
      "name": "python"
    }
  },
  "cells": [
    {
      "cell_type": "markdown",
      "metadata": {
        "id": "view-in-github",
        "colab_type": "text"
      },
      "source": [
        "<a href=\"https://colab.research.google.com/github/nathaneal-v/projec-test/blob/main/calc.ipynb\" target=\"_parent\"><img src=\"https://colab.research.google.com/assets/colab-badge.svg\" alt=\"Open In Colab\"/></a>"
      ]
    },
    {
      "cell_type": "code",
      "execution_count": null,
      "metadata": {
        "id": "4mGr7ggv8EFa"
      },
      "outputs": [],
      "source": [
        "# prompt: create a simple calculator using python\n",
        "\n",
        "# Define a function for addition\n",
        "def add(x, y):\n",
        "  return x + y\n",
        "\n",
        "# Define a function for subtraction\n",
        "def subtract(x, y):\n",
        "  return x - y\n",
        "\n",
        "# Define a function for multiplication\n",
        "def multiply(x, y):\n",
        "  return x * y\n",
        "\n",
        "# Define a function for division\n",
        "def divide(x, y):\n",
        "  if y == 0:\n",
        "    return \"Error: Division by zero\"\n",
        "  return x / y\n",
        "\n",
        "while True:\n",
        "  # Take input from the user\n",
        "  print(\"Select operation:\")\n",
        "  print(\"1. Add\")\n",
        "  print(\"2. Subtract\")\n",
        "  print(\"3. Multiply\")\n",
        "  print(\"4. Divide\")\n",
        "  print(\"5. Exit\")\n",
        "\n",
        "  choice = input(\"Enter choice(1/2/3/4/5): \")\n",
        "\n",
        "  if choice == '5':\n",
        "    break\n",
        "\n",
        "  num1 = float(input(\"Enter first number: \"))\n",
        "  num2 = float(input(\"Enter second number: \"))\n",
        "\n",
        "  if choice == '1':\n",
        "    print(num1, \"+\", num2, \"=\", add(num1, num2))\n",
        "\n",
        "  elif choice == '2':\n",
        "    print(num1, \"-\", num2, \"=\", subtract(num1, num2))\n",
        "\n",
        "  elif choice == '3':\n",
        "    print(num1, \"*\", num2, \"=\", multiply(num1, num2))\n",
        "\n",
        "  elif choice == '4':\n",
        "    print(num1, \"/\", num2, \"=\", divide(num1, num2))\n",
        "  else:\n",
        "    print(\"Invalid input\")\n"
      ]
    }
  ]
}